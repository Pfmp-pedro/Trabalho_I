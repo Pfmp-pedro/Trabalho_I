{
 "cells": [
  {
   "cell_type": "markdown",
   "metadata": {},
   "source": [
    "# Trabalho 1 de Cálculo Numérico\n",
    "### Grupo: Luís Felipe, Pedro Fellipe, Tiago Felllipe\n",
    "\n",
    "\n"
   ]
  },
  {
   "cell_type": "markdown",
   "metadata": {},
   "source": [
    "\n",
    "### Questão 2:\n",
    "\n",
    "Considerando a expressão,\n",
    "\n",
    "$$\\cfrac{e^{1/x}}{1+e^{1/x}} ~~~~(Eq. 1)$$\n",
    "\n",
    "Dividindo tanto a expressão do denominador quanto a do numerador por $e^{1/x}$ temos:\n",
    "\n",
    "$$\\cfrac{e^{1/x}}{1+e^{1/x}} \\div \\cfrac{e^{1/x}}{e^{1/x}} = \\cfrac {\\cfrac{e^{1/x}}{e^{1/x}}}{\\cfrac{1+e^{1/x}}{e^{1/x}}} = \\cfrac{1}{\\cfrac{1}{e^{1/x}}+1} = \\boxed {~~~~\\cfrac{1}{e^{-1/x}+1}~~~~} ~~~~(Eq. 2)$$\n",
    "\n"
   ]
  },
  {
   "cell_type": "code",
   "execution_count": 64,
   "metadata": {},
   "outputs": [
    {
     "name": "stdout",
     "output_type": "stream",
     "text": [
      "Cálculo via eq.1 \n",
      "\n",
      "x = 0.1 :  0.999954602131\n",
      "x = 0.095 :  0.999973179462\n",
      "x = 0.09 :  0.999985054885\n",
      "x = 0.085 :  0.999992225906\n",
      "x = 0.08 :  0.999996273361\n",
      "x = 0.075 :  0.999998380406\n",
      "x = 0.07 :  0.999999375125\n",
      "x = 0.065 :  0.999999791769\n",
      "x = 0.06 :  0.999999942223\n",
      "x = 0.055 :  0.999999987302\n",
      "x = 0.05 :  0.999999997939\n",
      "x = 0.045 :  0.999999999777\n",
      "x = 0.04 :  0.999999999986\n",
      "x = 0.035 :  1.0\n",
      "x = 0.03 :  1.0\n",
      "x = 0.025 :  1.0\n",
      "x = 0.02 :  1.0\n",
      "x = 0.015 :  1.0\n",
      "x = 0.01 :  1.0\n",
      "x = 0.005 :  1.0\n",
      "\n",
      "\n",
      "Cálculo via eq.2 \n",
      "\n",
      "x = 0.1 :  0.999954602131\n",
      "x = 0.095 :  0.999973179462\n",
      "x = 0.09 :  0.999985054885\n",
      "x = 0.085 :  0.999992225906\n",
      "x = 0.08 :  0.999996273361\n",
      "x = 0.075 :  0.999998380406\n",
      "x = 0.07 :  0.999999375125\n",
      "x = 0.065 :  0.999999791769\n",
      "x = 0.06 :  0.999999942223\n",
      "x = 0.055 :  0.999999987302\n",
      "x = 0.05 :  0.999999997939\n",
      "x = 0.045 :  0.999999999777\n",
      "x = 0.04 :  0.999999999986\n",
      "x = 0.035 :  1.0\n",
      "x = 0.03 :  1.0\n",
      "x = 0.025 :  1.0\n",
      "x = 0.02 :  1.0\n",
      "x = 0.015 :  1.0\n",
      "x = 0.01 :  1.0\n",
      "x = 0.005 :  1.0\n"
     ]
    }
   ],
   "source": [
    "import math                                                     # biblioteca de matemática para usar a função e^x\n",
    "\n",
    "print \"Cálculo via eq.1 \\n\"\n",
    "\n",
    "for i in range (100 , 1, -5):                                  # range (inicio, fim, passo)\n",
    "    x = 0.001*i\n",
    "    print \"x =\", x,                                       # A vígula no final permite unir o próximo print à esta linha\n",
    "    print \": \", math.exp(1.0/x)/(1 + math.exp(1.0/x)) \n",
    "\n",
    "print \"\\n\"\n",
    "\n",
    "print \"Cálculo via eq.2 \\n\"\n",
    "\n",
    "for i in range (100 , 1, -5):                                    \n",
    "    x = 0.001*i\n",
    "    print \"x =\", x,                                        \n",
    "    print \": \", 1/(math.exp(-1.0/x) + 1) "
   ]
  },
  {
   "cell_type": "code",
   "execution_count": null,
   "metadata": {},
   "outputs": [],
   "source": []
  }
 ],
 "metadata": {
  "kernelspec": {
   "display_name": "Python 2",
   "language": "python",
   "name": "python2"
  },
  "language_info": {
   "codemirror_mode": {
    "name": "ipython",
    "version": 2
   },
   "file_extension": ".py",
   "mimetype": "text/x-python",
   "name": "python",
   "nbconvert_exporter": "python",
   "pygments_lexer": "ipython2",
   "version": "2.7.14"
  }
 },
 "nbformat": 4,
 "nbformat_minor": 2
}
